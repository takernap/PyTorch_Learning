{
 "cells": [
  {
   "cell_type": "code",
   "execution_count": 1,
   "id": "7b780a8b",
   "metadata": {},
   "outputs": [
    {
     "data": {
      "text/plain": [
       "(1, 0)"
      ]
     },
     "execution_count": 1,
     "metadata": {},
     "output_type": "execute_result"
    }
   ],
   "source": [
    "def NOT_gate(x1):\n",
    "    # weights\n",
    "    w1 = -0.6\n",
    "    bias = 0.5\n",
    "\n",
    "    # forward\n",
    "    result = x1 * w1 + bias\n",
    "\n",
    "    # activation\n",
    "    if result > 0:\n",
    "        return 1\n",
    "    else:\n",
    "        return 0\n",
    "    \n",
    "NOT_gate(0), NOT_gate(1)"
   ]
  }
 ],
 "metadata": {
  "kernelspec": {
   "display_name": "base",
   "language": "python",
   "name": "python3"
  },
  "language_info": {
   "codemirror_mode": {
    "name": "ipython",
    "version": 3
   },
   "file_extension": ".py",
   "mimetype": "text/x-python",
   "name": "python",
   "nbconvert_exporter": "python",
   "pygments_lexer": "ipython3",
   "version": "3.12.7"
  }
 },
 "nbformat": 4,
 "nbformat_minor": 5
}
